{
 "cells": [
  {
   "cell_type": "code",
   "execution_count": null,
   "metadata": {
    "vscode": {
     "languageId": "html"
    }
   },
   "outputs": [],
   "source": [
    "<!DOCTYPE html>\n",
    "<html>\n",
    "<body>\n",
    "<h1>This is my firsdt Html tag</h1>\n",
    "<p>Nothing de shocjk me aggain</p>\n",
    "</body>\n",
    "</Html>\n",
    "<a href=\"https://steemit.com/@whitestallion/posts>\" visit this page for more information </a>\n",
    "\n"
   ]
  }
 ],
 "metadata": {
  "language_info": {
   "name": "python"
  },
  "orig_nbformat": 4
 },
 "nbformat": 4,
 "nbformat_minor": 2
}
